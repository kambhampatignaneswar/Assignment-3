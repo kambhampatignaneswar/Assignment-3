{
 "cells": [
  {
   "cell_type": "markdown",
   "id": "1137181b",
   "metadata": {},
   "source": [
    "# convert to list into dictionary using enumerate"
   ]
  },
  {
   "cell_type": "code",
   "execution_count": 5,
   "id": "479207f3",
   "metadata": {},
   "outputs": [
    {
     "name": "stdout",
     "output_type": "stream",
     "text": [
      "{'0': 1, '1': 2, '2': 3, '3': 4, '4': 'h'}\n"
     ]
    }
   ],
   "source": [
    "def list_to_dict(input_list):\n",
    "   \n",
    "    result_dict = {str(index): element for index, element in enumerate(input_list)}\n",
    "    \n",
    "    return result_dict\n",
    "\n",
    "input_list = [1, 2, 3, 4, 'h']\n",
    "output_dict = list_to_dict(input_list)\n",
    "print(output_dict)"
   ]
  },
  {
   "cell_type": "code",
   "execution_count": null,
   "id": "7dc12308",
   "metadata": {},
   "outputs": [],
   "source": []
  }
 ],
 "metadata": {
  "kernelspec": {
   "display_name": "Python 3 (ipykernel)",
   "language": "python",
   "name": "python3"
  },
  "language_info": {
   "codemirror_mode": {
    "name": "ipython",
    "version": 3
   },
   "file_extension": ".py",
   "mimetype": "text/x-python",
   "name": "python",
   "nbconvert_exporter": "python",
   "pygments_lexer": "ipython3",
   "version": "3.9.7"
  }
 },
 "nbformat": 4,
 "nbformat_minor": 5
}
